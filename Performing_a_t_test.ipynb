{
  "nbformat": 4,
  "nbformat_minor": 0,
  "metadata": {
    "colab": {
      "name": "Performing a t-test.ipynb",
      "provenance": [],
      "authorship_tag": "ABX9TyMw6g5a7nurTz4SmrnmvFNC",
      "include_colab_link": true
    },
    "kernelspec": {
      "name": "python3",
      "display_name": "Python 3"
    }
  },
  "cells": [
    {
      "cell_type": "markdown",
      "metadata": {
        "id": "view-in-github",
        "colab_type": "text"
      },
      "source": [
        "<a href=\"https://colab.research.google.com/github/Rene-HN/Performing-a-t-test/blob/master/Performing_a_t_test.ipynb\" target=\"_parent\"><img src=\"https://colab.research.google.com/assets/colab-badge.svg\" alt=\"Open In Colab\"/></a>"
      ]
    },
    {
      "cell_type": "code",
      "metadata": {
        "id": "7KD1GV_4M2Q1",
        "colab_type": "code",
        "colab": {}
      },
      "source": [
        "# Set up environment\n",
        "\n",
        "import math\n",
        "import pandas as pd\n",
        "import numpy as np\n",
        "from scipy import stats\n",
        "import matplotlib.pyplot as plt\n"
      ],
      "execution_count": null,
      "outputs": []
    },
    {
      "cell_type": "code",
      "metadata": {
        "id": "BguwddzMKjYe",
        "colab_type": "code",
        "colab": {}
      },
      "source": [
        "# Read in our data\n",
        "\n",
        "house_prices = pd.read_csv(\"https://tf-assets-prod.s3.amazonaws.com/tf-curric/data-science/homeprices.applied.econ.csv\")\n"
      ],
      "execution_count": null,
      "outputs": []
    },
    {
      "cell_type": "code",
      "metadata": {
        "id": "UKCitzOcLMo7",
        "colab_type": "code",
        "colab": {
          "base_uri": "https://localhost:8080/",
          "height": 575
        },
        "outputId": "d10caa2f-1b3c-4e3f-bfec-9815deadce44"
      },
      "source": [
        "# Get to know the data a bit\n",
        "\n",
        "house_prices.info()\n",
        "\n",
        "house_prices.head()"
      ],
      "execution_count": null,
      "outputs": [
        {
          "output_type": "stream",
          "text": [
            "<class 'pandas.core.frame.DataFrame'>\n",
            "RangeIndex: 546 entries, 0 to 545\n",
            "Data columns (total 12 columns):\n",
            " #   Column    Non-Null Count  Dtype  \n",
            "---  ------    --------------  -----  \n",
            " 0   price     546 non-null    float64\n",
            " 1   lotsize   546 non-null    int64  \n",
            " 2   bedrooms  546 non-null    int64  \n",
            " 3   bathrms   546 non-null    int64  \n",
            " 4   stories   546 non-null    int64  \n",
            " 5   driveway  546 non-null    object \n",
            " 6   recroom   546 non-null    object \n",
            " 7   fullbase  546 non-null    object \n",
            " 8   gashw     546 non-null    object \n",
            " 9   airco     546 non-null    object \n",
            " 10  garagepl  546 non-null    int64  \n",
            " 11  prefarea  546 non-null    object \n",
            "dtypes: float64(1), int64(5), object(6)\n",
            "memory usage: 51.3+ KB\n"
          ],
          "name": "stdout"
        },
        {
          "output_type": "execute_result",
          "data": {
            "text/html": [
              "<div>\n",
              "<style scoped>\n",
              "    .dataframe tbody tr th:only-of-type {\n",
              "        vertical-align: middle;\n",
              "    }\n",
              "\n",
              "    .dataframe tbody tr th {\n",
              "        vertical-align: top;\n",
              "    }\n",
              "\n",
              "    .dataframe thead th {\n",
              "        text-align: right;\n",
              "    }\n",
              "</style>\n",
              "<table border=\"1\" class=\"dataframe\">\n",
              "  <thead>\n",
              "    <tr style=\"text-align: right;\">\n",
              "      <th></th>\n",
              "      <th>price</th>\n",
              "      <th>lotsize</th>\n",
              "      <th>bedrooms</th>\n",
              "      <th>bathrms</th>\n",
              "      <th>stories</th>\n",
              "      <th>driveway</th>\n",
              "      <th>recroom</th>\n",
              "      <th>fullbase</th>\n",
              "      <th>gashw</th>\n",
              "      <th>airco</th>\n",
              "      <th>garagepl</th>\n",
              "      <th>prefarea</th>\n",
              "    </tr>\n",
              "  </thead>\n",
              "  <tbody>\n",
              "    <tr>\n",
              "      <th>0</th>\n",
              "      <td>42000.0</td>\n",
              "      <td>5850</td>\n",
              "      <td>3</td>\n",
              "      <td>1</td>\n",
              "      <td>2</td>\n",
              "      <td>yes</td>\n",
              "      <td>no</td>\n",
              "      <td>yes</td>\n",
              "      <td>no</td>\n",
              "      <td>no</td>\n",
              "      <td>1</td>\n",
              "      <td>no</td>\n",
              "    </tr>\n",
              "    <tr>\n",
              "      <th>1</th>\n",
              "      <td>66000.0</td>\n",
              "      <td>3880</td>\n",
              "      <td>3</td>\n",
              "      <td>2</td>\n",
              "      <td>2</td>\n",
              "      <td>yes</td>\n",
              "      <td>no</td>\n",
              "      <td>yes</td>\n",
              "      <td>no</td>\n",
              "      <td>no</td>\n",
              "      <td>2</td>\n",
              "      <td>no</td>\n",
              "    </tr>\n",
              "    <tr>\n",
              "      <th>2</th>\n",
              "      <td>83800.0</td>\n",
              "      <td>4800</td>\n",
              "      <td>3</td>\n",
              "      <td>1</td>\n",
              "      <td>1</td>\n",
              "      <td>yes</td>\n",
              "      <td>yes</td>\n",
              "      <td>yes</td>\n",
              "      <td>no</td>\n",
              "      <td>no</td>\n",
              "      <td>0</td>\n",
              "      <td>no</td>\n",
              "    </tr>\n",
              "    <tr>\n",
              "      <th>3</th>\n",
              "      <td>45000.0</td>\n",
              "      <td>3986</td>\n",
              "      <td>2</td>\n",
              "      <td>2</td>\n",
              "      <td>1</td>\n",
              "      <td>no</td>\n",
              "      <td>yes</td>\n",
              "      <td>yes</td>\n",
              "      <td>no</td>\n",
              "      <td>no</td>\n",
              "      <td>1</td>\n",
              "      <td>no</td>\n",
              "    </tr>\n",
              "    <tr>\n",
              "      <th>4</th>\n",
              "      <td>65900.0</td>\n",
              "      <td>4510</td>\n",
              "      <td>4</td>\n",
              "      <td>2</td>\n",
              "      <td>2</td>\n",
              "      <td>yes</td>\n",
              "      <td>no</td>\n",
              "      <td>yes</td>\n",
              "      <td>no</td>\n",
              "      <td>no</td>\n",
              "      <td>0</td>\n",
              "      <td>no</td>\n",
              "    </tr>\n",
              "  </tbody>\n",
              "</table>\n",
              "</div>"
            ],
            "text/plain": [
              "     price  lotsize  bedrooms  bathrms  ...  gashw airco garagepl prefarea\n",
              "0  42000.0     5850         3        1  ...     no    no        1       no\n",
              "1  66000.0     3880         3        2  ...     no    no        2       no\n",
              "2  83800.0     4800         3        1  ...     no    no        0       no\n",
              "3  45000.0     3986         2        2  ...     no    no        1       no\n",
              "4  65900.0     4510         4        2  ...     no    no        0       no\n",
              "\n",
              "[5 rows x 12 columns]"
            ]
          },
          "metadata": {
            "tags": []
          },
          "execution_count": 3
        }
      ]
    },
    {
      "cell_type": "markdown",
      "metadata": {
        "id": "sTKgqlYZkihp",
        "colab_type": "text"
      },
      "source": [
        "## 1. Do homes with air conditioning have a higher sales price than homes without air conditioning?"
      ]
    },
    {
      "cell_type": "code",
      "metadata": {
        "id": "srm-SvKkM9qR",
        "colab_type": "code",
        "colab": {
          "base_uri": "https://localhost:8080/",
          "height": 715
        },
        "outputId": "807b75b9-2cde-4fa4-e1cf-cee03286bb67"
      },
      "source": [
        "# Split up our dataset\n",
        "house_prices_airco_yes = house_prices[(house_prices['airco'] == 'yes')]\n",
        "house_prices_airco_yes.info()\n",
        "\n",
        "house_prices_airco_no = house_prices[(house_prices['airco'] == 'no')]\n",
        "house_prices_airco_no.info()"
      ],
      "execution_count": null,
      "outputs": [
        {
          "output_type": "stream",
          "text": [
            "<class 'pandas.core.frame.DataFrame'>\n",
            "Int64Index: 173 entries, 373 to 545\n",
            "Data columns (total 12 columns):\n",
            " #   Column    Non-Null Count  Dtype  \n",
            "---  ------    --------------  -----  \n",
            " 0   price     173 non-null    float64\n",
            " 1   lotsize   173 non-null    int64  \n",
            " 2   bedrooms  173 non-null    int64  \n",
            " 3   bathrms   173 non-null    int64  \n",
            " 4   stories   173 non-null    int64  \n",
            " 5   driveway  173 non-null    object \n",
            " 6   recroom   173 non-null    object \n",
            " 7   fullbase  173 non-null    object \n",
            " 8   gashw     173 non-null    object \n",
            " 9   airco     173 non-null    object \n",
            " 10  garagepl  173 non-null    int64  \n",
            " 11  prefarea  173 non-null    object \n",
            "dtypes: float64(1), int64(5), object(6)\n",
            "memory usage: 17.6+ KB\n",
            "<class 'pandas.core.frame.DataFrame'>\n",
            "Int64Index: 373 entries, 0 to 372\n",
            "Data columns (total 12 columns):\n",
            " #   Column    Non-Null Count  Dtype  \n",
            "---  ------    --------------  -----  \n",
            " 0   price     373 non-null    float64\n",
            " 1   lotsize   373 non-null    int64  \n",
            " 2   bedrooms  373 non-null    int64  \n",
            " 3   bathrms   373 non-null    int64  \n",
            " 4   stories   373 non-null    int64  \n",
            " 5   driveway  373 non-null    object \n",
            " 6   recroom   373 non-null    object \n",
            " 7   fullbase  373 non-null    object \n",
            " 8   gashw     373 non-null    object \n",
            " 9   airco     373 non-null    object \n",
            " 10  garagepl  373 non-null    int64  \n",
            " 11  prefarea  373 non-null    object \n",
            "dtypes: float64(1), int64(5), object(6)\n",
            "memory usage: 37.9+ KB\n"
          ],
          "name": "stdout"
        }
      ]
    },
    {
      "cell_type": "code",
      "metadata": {
        "id": "F4WMeNt0Xrh6",
        "colab_type": "code",
        "colab": {
          "base_uri": "https://localhost:8080/",
          "height": 265
        },
        "outputId": "d4bc0a55-d0d1-4054-c2ba-52742c46ecaa"
      },
      "source": [
        "plt.hist(house_prices_airco_yes['price'], alpha = .5)\n",
        "plt.hist(house_prices_airco_no['price'], alpha = .5)\n",
        "plt.show()"
      ],
      "execution_count": null,
      "outputs": [
        {
          "output_type": "display_data",
          "data": {
            "image/png": "[encoded data removed]",
            "text/plain": [
              "<Figure size 432x288 with 1 Axes>"
            ]
          },
          "metadata": {
            "tags": [],
            "needs_background": "light"
          }
        }
      ]
    },
    {
      "cell_type": "code",
      "metadata": {
        "id": "q2tjyCFPlXdB",
        "colab_type": "code",
        "colab": {
          "base_uri": "https://localhost:8080/",
          "height": 74
        },
        "outputId": "75b4cec8-191d-4471-8feb-3c771482aeef"
      },
      "source": [
        "print(stats.describe(house_prices_airco_yes['price']))\n",
        "print(stats.describe(house_prices_airco_no['price']))"
      ],
      "execution_count": null,
      "outputs": [
        {
          "output_type": "stream",
          "text": [
            "DescribeResult(nobs=173, minmax=(31900.0, 190000.0), mean=85880.58959537573, variance=810167352.2317516, skewness=0.8558523643779228, kurtosis=0.9609338749117713)\n",
            "DescribeResult(nobs=373, minmax=(25000.0, 175000.0), mean=59884.85254691689, variance=455341800.98626363, skewness=1.4196100209360347, kurtosis=3.448225770991252)\n"
          ],
          "name": "stdout"
        }
      ]
    },
    {
      "cell_type": "markdown",
      "metadata": {
        "id": "13PYU5baGqiZ",
        "colab_type": "text"
      },
      "source": [
        "The kurtosis value on the histogram for houses with no air confitioner prices is higher than 3.0 . From both the histograms and the statistics, it appears that the samples of this variable are not normally distributed."
      ]
    },
    {
      "cell_type": "markdown",
      "metadata": {
        "id": "A6HJp_hbmY74",
        "colab_type": "text"
      },
      "source": [
        "## 2. Do homes with a full basement have a higher sales price than homes without a full basement?"
      ]
    },
    {
      "cell_type": "code",
      "metadata": {
        "id": "YfKftlG-IT0t",
        "colab_type": "code",
        "colab": {
          "base_uri": "https://localhost:8080/",
          "height": 715
        },
        "outputId": "090c2eae-93b1-4377-fe35-addf66e75242"
      },
      "source": [
        "# Split up our dataser\n",
        "house_prices_fullbase_yes = house_prices[(house_prices['fullbase'] == 'yes')] \n",
        "house_prices_fullbase_yes.info()\n",
        "\n",
        "house_prices_fullbase_no = house_prices[(house_prices)['fullbase'] == 'no']\n",
        "house_prices_fullbase_no.info()"
      ],
      "execution_count": null,
      "outputs": [
        {
          "output_type": "stream",
          "text": [
            "<class 'pandas.core.frame.DataFrame'>\n",
            "Int64Index: 191 entries, 0 to 438\n",
            "Data columns (total 12 columns):\n",
            " #   Column    Non-Null Count  Dtype  \n",
            "---  ------    --------------  -----  \n",
            " 0   price     191 non-null    float64\n",
            " 1   lotsize   191 non-null    int64  \n",
            " 2   bedrooms  191 non-null    int64  \n",
            " 3   bathrms   191 non-null    int64  \n",
            " 4   stories   191 non-null    int64  \n",
            " 5   driveway  191 non-null    object \n",
            " 6   recroom   191 non-null    object \n",
            " 7   fullbase  191 non-null    object \n",
            " 8   gashw     191 non-null    object \n",
            " 9   airco     191 non-null    object \n",
            " 10  garagepl  191 non-null    int64  \n",
            " 11  prefarea  191 non-null    object \n",
            "dtypes: float64(1), int64(5), object(6)\n",
            "memory usage: 19.4+ KB\n",
            "<class 'pandas.core.frame.DataFrame'>\n",
            "Int64Index: 355 entries, 125 to 545\n",
            "Data columns (total 12 columns):\n",
            " #   Column    Non-Null Count  Dtype  \n",
            "---  ------    --------------  -----  \n",
            " 0   price     355 non-null    float64\n",
            " 1   lotsize   355 non-null    int64  \n",
            " 2   bedrooms  355 non-null    int64  \n",
            " 3   bathrms   355 non-null    int64  \n",
            " 4   stories   355 non-null    int64  \n",
            " 5   driveway  355 non-null    object \n",
            " 6   recroom   355 non-null    object \n",
            " 7   fullbase  355 non-null    object \n",
            " 8   gashw     355 non-null    object \n",
            " 9   airco     355 non-null    object \n",
            " 10  garagepl  355 non-null    int64  \n",
            " 11  prefarea  355 non-null    object \n",
            "dtypes: float64(1), int64(5), object(6)\n",
            "memory usage: 36.1+ KB\n"
          ],
          "name": "stdout"
        }
      ]
    },
    {
      "cell_type": "code",
      "metadata": {
        "id": "eOTtBi_DkwGo",
        "colab_type": "code",
        "colab": {
          "base_uri": "https://localhost:8080/",
          "height": 265
        },
        "outputId": "73459b3b-6dfb-48cf-a0d6-dfb4c0b3aaa7"
      },
      "source": [
        "plt.hist(house_prices_fullbase_yes['price'], alpha = .5)\n",
        "plt.hist(house_prices_fullbase_no['price'], alpha = .5)\n",
        "plt.show()"
      ],
      "execution_count": null,
      "outputs": [
        {
          "output_type": "display_data",
          "data": {
            "image/png": "[encoded data removed]",
            "text/plain": [
              "<Figure size 432x288 with 1 Axes>"
            ]
          },
          "metadata": {
            "tags": [],
            "needs_background": "light"
          }
        }
      ]
    },
    {
      "cell_type": "code",
      "metadata": {
        "id": "aIQ-r_ZIlgkY",
        "colab_type": "code",
        "colab": {
          "base_uri": "https://localhost:8080/",
          "height": 74
        },
        "outputId": "81a18397-b460-441f-a54a-4c90c8ab2303"
      },
      "source": [
        "print(stats.describe(house_prices_fullbase_yes['price']))\n",
        "print(stats.describe(house_prices_fullbase_no['price']))"
      ],
      "execution_count": null,
      "outputs": [
        {
          "output_type": "stream",
          "text": [
            "DescribeResult(nobs=191, minmax=(26000.0, 175000.0), mean=74894.50261780104, variance=687483535.4092036, skewness=1.299439350765169, kurtosis=2.200944427832982)\n",
            "DescribeResult(nobs=355, minmax=(25000.0, 190000.0), mean=64477.58309859155, variance=690693014.1816344, skewness=1.2539001276811907, kurtosis=1.9898502593432044)\n"
          ],
          "name": "stdout"
        }
      ]
    },
    {
      "cell_type": "markdown",
      "metadata": {
        "id": "0zEzEcULnUdg",
        "colab_type": "text"
      },
      "source": [
        "Since our skewness and kurtosis are between -3 and 3 we will asume a nomally distributed variable. We will proceed with the T-test."
      ]
    },
    {
      "cell_type": "code",
      "metadata": {
        "id": "e-RWAUM2lrks",
        "colab_type": "code",
        "colab": {
          "base_uri": "https://localhost:8080/",
          "height": 35
        },
        "outputId": "ffac1d21-3c88-4de5-b42b-f708893fc287"
      },
      "source": [
        "stats.ttest_ind(house_prices_fullbase_yes['price'], house_prices_fullbase_no['price'])"
      ],
      "execution_count": null,
      "outputs": [
        {
          "output_type": "execute_result",
          "data": {
            "text/plain": [
              "Ttest_indResult(statistic=4.420628512286621, pvalue=1.1885626562866786e-05)"
            ]
          },
          "metadata": {
            "tags": []
          },
          "execution_count": 12
        }
      ]
    },
    {
      "cell_type": "code",
      "metadata": {
        "id": "CdUCffE-pgED",
        "colab_type": "code",
        "colab": {}
      },
      "source": [
        ""
      ],
      "execution_count": null,
      "outputs": []
    },
    {
      "cell_type": "markdown",
      "metadata": {
        "id": "JJNFe_qWpiar",
        "colab_type": "text"
      },
      "source": [
        "95% coinfidence interval Calculation"
      ]
    },
    {
      "cell_type": "code",
      "metadata": {
        "id": "1eNIVR7fpphr",
        "colab_type": "code",
        "colab": {}
      },
      "source": [
        "def get_95_ci(array_1, array_2):\n",
        "    sample_1_n = array_1.shape[0]\n",
        "    sample_2_n = array_2.shape[0]\n",
        "    sample_1_mean = array_1.mean()\n",
        "    sample_2_mean = array_2.mean()\n",
        "    sample_1_var = array_1.var()\n",
        "    sample_2_var = array_2.var()\n",
        "    mean_difference = sample_2_mean - sample_1_mean\n",
        "    std_err_difference = math.sqrt((sample_1_var/sample_1_n)+(sample_2_var/sample_2_n))\n",
        "    margin_of_error = 1.96 * std_err_difference\n",
        "    ci_lower = mean_difference - margin_of_error\n",
        "    ci_upper = mean_difference + margin_of_error\n",
        "    return(\"The difference in means at the 95% confidence interval (two-tail) is between \"+str(ci_lower)+\" and \"+str(ci_upper)+\".\")\n"
      ],
      "execution_count": null,
      "outputs": []
    },
    {
      "cell_type": "code",
      "metadata": {
        "id": "1aNxKzbpro10",
        "colab_type": "code",
        "colab": {
          "base_uri": "https://localhost:8080/",
          "height": 341
        },
        "outputId": "8cfc0a17-a3c6-4f08-d476-b466b8125b38"
      },
      "source": [
        "import seaborn as sns\n",
        "\n",
        "g = sns.pointplot(data=[house_prices_fullbase_yes['price'], house_prices_fullbase_no['price']], join=False)\n",
        "                        \n",
        "g.set(xticklabels = ['fullbase_yes', 'fullbase_no'])"
      ],
      "execution_count": null,
      "outputs": [
        {
          "output_type": "stream",
          "text": [
            "/usr/local/lib/python3.6/dist-packages/statsmodels/tools/_testing.py:19: FutureWarning: pandas.util.testing is deprecated. Use the functions in the public API at pandas.testing instead.\n",
            "  import pandas.util.testing as tm\n"
          ],
          "name": "stderr"
        },
        {
          "output_type": "execute_result",
          "data": {
            "text/plain": [
              "[[Text(0, 0, 'fullbase_yes'), Text(0, 0, 'fullbase_no')]]"
            ]
          },
          "metadata": {
            "tags": []
          },
          "execution_count": 15
        },
        {
          "output_type": "display_data",
          "data": {
            "image/png": "[encoded data removed]",
            "text/plain": [
              "<Figure size 432x288 with 1 Axes>"
            ]
          },
          "metadata": {
            "tags": [],
            "needs_background": "light"
          }
        }
      ]
    },
    {
      "cell_type": "code",
      "metadata": {
        "id": "68FH0HJopzwW",
        "colab_type": "code",
        "colab": {
          "base_uri": "https://localhost:8080/",
          "height": 54
        },
        "outputId": "60c2794a-4acc-47dc-f3f8-3056c0acbb99"
      },
      "source": [
        "get_95_ci(house_prices_fullbase_yes['price'], house_prices_fullbase_no['price'])"
      ],
      "execution_count": null,
      "outputs": [
        {
          "output_type": "execute_result",
          "data": {
            "application/vnd.google.colaboratory.intrinsic+json": {
              "type": "string"
            },
            "text/plain": [
              "'The difference in means at the 95% confidence interval (two-tail) is between -15032.294775656886 and -5801.544262762097.'"
            ]
          },
          "metadata": {
            "tags": []
          },
          "execution_count": 14
        }
      ]
    },
    {
      "cell_type": "markdown",
      "metadata": {
        "id": "oVKRvzJWrBZT",
        "colab_type": "text"
      },
      "source": [
        "We can interpret this result as saying that with 95% confidence, houses without a full basement have sale price on average between 15032.29 and $5801.54 dollars lower than houses with a full basement."
      ]
    },
    {
      "cell_type": "markdown",
      "metadata": {
        "id": "lsxrSsu6uW3D",
        "colab_type": "text"
      },
      "source": [
        "Other considerations:\n",
        "\n",
        "Since the price of a good is established by the intersection of the supply and demmand curve, we will need to rule out other factors that might make the more expensive houses more desirable beside the state of the basement. For example, the proximity to important places or the avability of higher paying jobs in the area."
      ]
    },
    {
      "cell_type": "code",
      "metadata": {
        "id": "K2UNj34zqIG-",
        "colab_type": "code",
        "colab": {}
      },
      "source": [
        ""
      ],
      "execution_count": null,
      "outputs": []
    }
  ]
}